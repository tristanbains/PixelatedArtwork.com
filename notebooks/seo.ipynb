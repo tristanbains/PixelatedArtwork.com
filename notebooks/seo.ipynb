{
 "cells": [
  {
   "cell_type": "markdown",
   "id": "1ea23930-9db1-4de4-8550-d0726b771cde",
   "metadata": {},
   "source": [
    "## Create sitemap.xml"
   ]
  },
  {
   "cell_type": "code",
   "execution_count": 49,
   "id": "7d2ce1ff-8740-4103-9130-1deba66df43f",
   "metadata": {},
   "outputs": [
    {
     "name": "stdout",
     "output_type": "stream",
     "text": [
      "<?xml version=\"1.0\" encoding=\"UTF-8\"?>\n",
      "<urlset xmlns=\"http://www.sitemaps.org/schemas/sitemap/0.9\">\n",
      "\t<url>\n",
      "\t\t<loc>https://www.abcxyz.com/</loc>\n",
      "\t\t<lastmod>2024-09-06</lastmod>\n",
      "\t\t<priority>1.0</priority>\n",
      "\t</url>\n",
      "\t<url>\n",
      "\t\t<loc>https://www.abcxyz.com/test/</loc>\n",
      "\t\t<lastmod>2024-09-06</lastmod>\n",
      "\t\t<priority>1.0</priority>\n",
      "\t</url>\n",
      "\t<url>\n",
      "\t\t<loc>https://www.abcxyz.com/XYZ_123/</loc>\n",
      "\t\t<lastmod>2024-09-06</lastmod>\n",
      "\t\t<priority>1.0</priority>\n",
      "\t</url>\n",
      "\t<url>\n",
      "\t\t<loc>https://www.abcxyz.com/blog/</loc>\n",
      "\t\t<lastmod>2024-09-06</lastmod>\n",
      "\t\t<priority>1.0</priority>\n",
      "\t</url>\n",
      "\t<url>\n",
      "\t\t<loc>https://www.abcxyz.com/blog/testpage/</loc>\n",
      "\t\t<lastmod>2024-09-06</lastmod>\n",
      "\t\t<priority>1.0</priority>\n",
      "\t</url>\n",
      "\t<url>\n",
      "\t\t<loc>https://www.abcxyz.com/blog/testpage3/</loc>\n",
      "\t\t<lastmod>2024-09-06</lastmod>\n",
      "\t\t<priority>1.0</priority>\n",
      "\t</url>\n",
      "</urlset>\n"
     ]
    }
   ],
   "source": [
    "import os\n",
    "import re\n",
    "import datetime\n",
    "\n",
    "# Defined in app.py:\n",
    "dict_website = {\n",
    "    'base_url':'https://www.abcxyz.com/',\n",
    "    'lang':'nl',\n",
    "}\n",
    "\n",
    "def create_sitemap_xml(dict_website,folder_build='build',priority='1.0',change_frequency='',print_xml=False):\n",
    "    # Get all pages and correct URL's:\n",
    "    ps = [os.path.join(path, name) for (path, subdirs, files) in os.walk(folder_build) for name in files if name.endswith('index.html')]\n",
    "    ps = [x.replace(folder_build,dict_website['base_url']) for x in ps]\n",
    "    ps = [re.sub('(?<!\\:)//','/',x) for x in ps]\n",
    "    ps = [re.sub('index.html$','',x) for x in ps]\n",
    "    # Create XML content:\n",
    "    last_modification_date = datetime.date.today()\n",
    "    xml_content = '<?xml version=\"1.0\" encoding=\"UTF-8\"?>\\n'\n",
    "    xml_content += '<urlset xmlns=\"http://www.sitemaps.org/schemas/sitemap/0.9\">\\n'\n",
    "    for p in ps:\n",
    "        xml_content += f'\\t<url>\\n'\n",
    "        xml_content += f'\\t\\t<loc>{p}</loc>\\n'\n",
    "        xml_content += f'\\t\\t<lastmod>{last_modification_date.strftime(\"%Y-%m-%d\")}</lastmod>\\n'\n",
    "        if change_frequency != '':\n",
    "            xml_content += f'\\t\\t<changefreq>{change_frequency}</changefreq>\\n'\n",
    "        xml_content += f'\\t\\t<priority>{priority}</priority>\\n'\n",
    "        xml_content += f'\\t</url>\\n'\n",
    "    xml_content += '</urlset>'\n",
    "    if print_xml:\n",
    "        print(xml_content)\n",
    "    else:\n",
    "        # Write to sitemap.xml file:\n",
    "        path_sitemap = os.path.join(folder_build,'sitemap.xml')\n",
    "        with open(path_sitemap,'w') as file:\n",
    "            file.write(xml_content)\n",
    "\n",
    "create_sitemap_xml(dict_website,folder_build='../build',print_xml=True)\n",
    "# create_sitemap_xml(dict_website,change_frequency='daily')"
   ]
  },
  {
   "cell_type": "markdown",
   "id": "97400297-efb7-4124-8a03-0eda45d78bfb",
   "metadata": {},
   "source": [
    "## Create robots.txt"
   ]
  },
  {
   "cell_type": "code",
   "execution_count": 67,
   "id": "764fac59-a27c-427b-a08f-419a717df25a",
   "metadata": {},
   "outputs": [
    {
     "name": "stdout",
     "output_type": "stream",
     "text": [
      "User-agent: *\n",
      "Disallow: /secret_directory/\n",
      "Disallow: /hide_this/\n",
      "\n",
      "Sitemap: https://www.abcxyz.com/sitemap.xml\n",
      "Sitemap: https://www.abcxyz.com/sitemap_images.xml\n"
     ]
    }
   ],
   "source": [
    "# Defined in app.py:\n",
    "dict_website = {\n",
    "    'base_url':'https://www.abcxyz.com/',\n",
    "    'lang':'nl',\n",
    "    'sitemap_images':'sitemap_images.xml',\n",
    "}\n",
    "\n",
    "def create_robots_txt(dict_website,folder_build='build',list_folder_exclude = [], print_txt=False):\n",
    "    txt_content='User-agent: *\\n'\n",
    "    if len(list_folder_exclude)>0:\n",
    "        txt_content += '\\n'.join([f'Disallow: /{x}/' for x in list_folder_exclude]) + '\\n\\n'\n",
    "    else:\n",
    "        txt_content += 'Disallow:\\n'\n",
    "    txt_content += f\"Sitemap: {dict_website['base_url']}sitemap.xml\"\n",
    "    if dict_website['sitemap_images'] != '':\n",
    "        txt_content += f\"\\nSitemap: {dict_website['base_url']}{dict_website['sitemap_images']}\"\n",
    "    if print_txt:\n",
    "        print(txt_content)\n",
    "    else:\n",
    "        path_robots = os.path.join(folder_build,'robots.txt')\n",
    "        with open(path_robots,'w') as file:\n",
    "            file.write(txt_content)\n",
    "\n",
    "create_robots_txt(dict_website,folder_build='../build',list_folder_exclude=['secret_directory','hide_this'],print_txt=True)\n",
    "# create_robots_txt(dict_website,folder_build='../build',print_txt=True)"
   ]
  },
  {
   "cell_type": "markdown",
   "id": "0f52a761-d621-454e-bc8f-32660c83d70b",
   "metadata": {},
   "source": [
    "## Create dict_meta_empty"
   ]
  },
  {
   "cell_type": "code",
   "execution_count": 31,
   "id": "a63c8578-7048-4c57-9ed5-a92fcb1718f5",
   "metadata": {},
   "outputs": [
    {
     "name": "stdout",
     "output_type": "stream",
     "text": [
      "{'title': 'Commands and instructions', 'xyz': '', 'category': ['Tech'], 'subtitle': 'new, overridden subtitle', 'new_val': 'abc'}\n",
      "\n",
      "{'title': '', 'xyz': '', 'category': '', 'subtitle': ''}\n"
     ]
    }
   ],
   "source": [
    "dict_md_all_yaml = {'blog/testpage': {'xyz': 'bla','title': 'Title for test page from a Markdown file', 'subtitle': 'And some subtitle', 'category': ['Life', 'Tech']}, 'blog/instructions_commands': {'title': 'Commands and instructions', 'subtitle': 'And some subtitle for instructions', 'category': ['Tech']}, 'blog/ds-reqs': {'title': 'Data scientist requirements job posts', 'subtitle': 'Q2 and Q3 2024', 'category': ['Tech']}}\n",
    "\n",
    "# print(dict_md_all_yaml)\n",
    "# print()\n",
    "list_keys_meta = list(set([k2 for k in dict_md_all_yaml for k2 in dict_md_all_yaml[k]]))\n",
    "dict_meta_empty = {k:'' for k in list_keys_meta}\n",
    "\n",
    "# print(dict_meta_empty)\n",
    "# print()\n",
    "\n",
    "'blog/instructions_commands'\n",
    "\n",
    "# new_dict = {**old_dict, 'changed_val': value, **other_new_vals_as_dict}\n",
    "dict_page_meta = {**dict_meta_empty, **dict_md_all_yaml['blog/instructions_commands'], 'new_val': 'abc','subtitle':'new, overridden subtitle'}\n",
    "print(dict_page_meta)\n",
    "print()\n",
    "print(dict_meta_empty)"
   ]
  },
  {
   "cell_type": "code",
   "execution_count": null,
   "id": "b5b61808-6a68-4e19-80e3-8d22c7ae04c0",
   "metadata": {},
   "outputs": [],
   "source": []
  },
  {
   "cell_type": "code",
   "execution_count": null,
   "id": "f306f784-039a-4d60-af84-3f90448cba68",
   "metadata": {},
   "outputs": [],
   "source": []
  }
 ],
 "metadata": {
  "kernelspec": {
   "display_name": "Python 3 (ipykernel)",
   "language": "python",
   "name": "python3"
  },
  "language_info": {
   "codemirror_mode": {
    "name": "ipython",
    "version": 3
   },
   "file_extension": ".py",
   "mimetype": "text/x-python",
   "name": "python",
   "nbconvert_exporter": "python",
   "pygments_lexer": "ipython3",
   "version": "3.11.9"
  }
 },
 "nbformat": 4,
 "nbformat_minor": 5
}
