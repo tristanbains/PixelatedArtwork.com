{
 "cells": [
  {
   "cell_type": "code",
   "execution_count": 1,
   "id": "9f075f46-413b-4f56-b7bd-2581edbf4ee7",
   "metadata": {},
   "outputs": [],
   "source": [
    "import pandas as pd"
   ]
  },
  {
   "cell_type": "code",
   "execution_count": 2,
   "id": "2ba6032f-8241-4f3a-b2f7-48eb9bd1393c",
   "metadata": {},
   "outputs": [
    {
     "data": {
      "text/plain": [
       "2"
      ]
     },
     "execution_count": 2,
     "metadata": {},
     "output_type": "execute_result"
    }
   ],
   "source": [
    "1+1"
   ]
  },
  {
   "cell_type": "code",
   "execution_count": 1,
   "id": "6297f86c-10f4-46b5-aeae-4b11536fe922",
   "metadata": {},
   "outputs": [],
   "source": [
    "import numpy as np"
   ]
  },
  {
   "cell_type": "code",
   "execution_count": 1,
   "id": "02542de3-b72a-4e57-9197-5a7ae1911645",
   "metadata": {},
   "outputs": [
    {
     "data": {
      "text/plain": [
       "8"
      ]
     },
     "execution_count": 1,
     "metadata": {},
     "output_type": "execute_result"
    }
   ],
   "source": [
    "import pandas as pd\n",
    "4+4"
   ]
  },
  {
   "cell_type": "code",
   "execution_count": 2,
   "id": "fda76f77-6887-4d17-aba8-bf55f5199e77",
   "metadata": {},
   "outputs": [
    {
     "ename": "AttributeError",
     "evalue": "'list' object has no attribute 'map'",
     "output_type": "error",
     "traceback": [
      "\u001b[0;31m---------------------------------------------------------------------------\u001b[0m",
      "\u001b[0;31mAttributeError\u001b[0m                            Traceback (most recent call last)",
      "Cell \u001b[0;32mIn[2], line 1\u001b[0m\n\u001b[0;32m----> 1\u001b[0m \u001b[43m[\u001b[49m\u001b[38;5;241;43m1\u001b[39;49m\u001b[43m,\u001b[49m\u001b[38;5;241;43m2\u001b[39;49m\u001b[43m,\u001b[49m\u001b[38;5;241;43m3\u001b[39;49m\u001b[43m]\u001b[49m\u001b[38;5;241;43m.\u001b[39;49m\u001b[43mmap\u001b[49m(\u001b[38;5;28;01mlambda\u001b[39;00m x:x\u001b[38;5;241m*\u001b[39m\u001b[38;5;241m*\u001b[39m\u001b[38;5;241m2\u001b[39m)\n",
      "\u001b[0;31mAttributeError\u001b[0m: 'list' object has no attribute 'map'"
     ]
    }
   ],
   "source": [
    "[1,2,3].map(lambda x:x**2)"
   ]
  },
  {
   "cell_type": "code",
   "execution_count": 2,
   "id": "d5ae0c88-c5a4-4bdc-a107-adb958ed6371",
   "metadata": {},
   "outputs": [],
   "source": [
    "html_string = \"\"\"\n",
    "<p>Intro </p>\n",
    "<div class=\"toc\"><ul><li><a href=\"#section-1\">Section 1</a><ul><li><a href=\"#question-1\">Question 1</a></li><li><a href=\"#question-2\">Question 2</a></li></ul></li><li><a href=\"#section-2\">Section 2</a><ul><li><a href=\"#question-1_1\">Question 1</a></li></ul></li></ul></div>\n",
    "<ul><li><a href=\"#section-1\">Section 1</a><ul><li><a href=\"#question-1\">Question 1</a></li><li><a href=\"#question-2\">Question 2</a></li></ul></li><li><a href=\"#section-2\">Section 2</a><ul><li><a href=\"#question-1_1\">Question 1</a></li></ul></li></ul>\n",
    "<li><a href=\"#section-1\">Section 1</a><ul><li><a href=\"#question-1\">Question 1</a></li><li><a href=\"#question-2\">Question 2</a></li></ul></li>\n",
    "<li><a href=\"#section-2\">Section 2</a><ul><li><a href=\"#question-1_1\">Question 1</a></li></ul></li>\n",
    "<ul><li><a href=\"#section-1\">Section 1</a><ul><li><a href=\"#question-1\">Question 1</a></li><li><a href=\"#question-2\">Question 2</a></li></ul></li><li><a href=\"#section-2\">Section 2</a><ul><li><a href=\"#question-1_1\">Question 1</a></li></ul></li></ul>\n",
    "<div class=\"toc\"><ul><li><a href=\"#section-1\">Section 1</a><ul><li><a href=\"#question-1\">Question 1</a></li><li><a href=\"#question-2\">Question 2</a></li></ul></li><li><a href=\"#section-2\">Section 2</a><ul><li><a href=\"#question-1_1\">Question 1</a></li></ul></li></ul></div>\n",
    "<h2 id=\"section-1\">Section 1</h2>\n",
    "<h3 id=\"question-1\">Question 1</h3>\n",
    "<p>Answer 1.1</p>\n",
    "<p>Answer 1.2</p>\n",
    "<h3 id=\"question-2\">Question 2</h3>\n",
    "<p>Answer 2.1</p>\n",
    "<p>Answer 2.2</p>\n",
    "<h2 id=\"section-2\">Section 2</h2>\n",
    "<h3 id=\"question-1_1\">Question 1</h3>\n",
    "<p>Answer 1.1</p>\n",
    "<p>Answer 1.2</p>\n",
    "\"\"\""
   ]
  },
  {
   "cell_type": "code",
   "execution_count": 3,
   "id": "fac0f983-f7fc-4935-8278-f31a94661d91",
   "metadata": {},
   "outputs": [
    {
     "data": {
      "text/plain": [
       "{'Section 1': {'Question 1': '<p>Answer 1.1</p><p>Answer 1.2</p>',\n",
       "  'Question 2': '<p>Answer 2.1</p><p>Answer 2.2</p>'},\n",
       " 'Section 2': {'Question 1': '<p>Answer 1.1</p><p>Answer 1.2</p>'}}"
      ]
     },
     "execution_count": 3,
     "metadata": {},
     "output_type": "execute_result"
    }
   ],
   "source": [
    "import re\n",
    "\n",
    "dict_faq = {}\n",
    "h2,h3,ps = False,False,False\n",
    "h2_val,h3_val,ps_val = '','',''\n",
    "\n",
    "for line in html_string.splitlines():\n",
    "    line = line.strip()\n",
    "    h2 = True if line.startswith('<h2') else False\n",
    "    h3 = True if line.startswith('<h3') else False\n",
    "    if h2:\n",
    "        h2_val = re.search(r'<h2.*?>(.*?)</h2>',line).group(1)\n",
    "        dict_faq[h2_val]={}\n",
    "        ps = True\n",
    "    elif h3:\n",
    "        h3_val = re.search(r'<h3.*?>(.*?)</h3>',line).group(1)\n",
    "        dict_faq[h2_val][h3_val]=''\n",
    "    else:\n",
    "        if ps:\n",
    "            dict_faq[h2_val][h3_val]+=re.search(r'(<p.*?>.*?</p>)',line).group(1)\n",
    "dict_faq"
   ]
  },
  {
   "cell_type": "code",
   "execution_count": null,
   "id": "4587b313-cc8c-4fa1-af28-3013cb4e728e",
   "metadata": {},
   "outputs": [],
   "source": []
  }
 ],
 "metadata": {
  "kernelspec": {
   "display_name": "Python 3 (ipykernel)",
   "language": "python",
   "name": "python3"
  },
  "language_info": {
   "codemirror_mode": {
    "name": "ipython",
    "version": 3
   },
   "file_extension": ".py",
   "mimetype": "text/x-python",
   "name": "python",
   "nbconvert_exporter": "python",
   "pygments_lexer": "ipython3",
   "version": "3.11.9"
  }
 },
 "nbformat": 4,
 "nbformat_minor": 5
}
